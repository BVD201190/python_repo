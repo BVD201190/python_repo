{
 "cells": [
  {
   "cell_type": "code",
   "execution_count": 8,
   "metadata": {},
   "outputs": [],
   "source": [
    "#Task-1\n",
    "#1 Write a function to compute 5/0 and use try/except to catch the exceptions.\n",
    "\n",
    "def compute():\n",
    "    try:\n",
    "        a = int(input(\"Enter the number you are dividing up : \"))\n",
    "        b = int(input(\"Enter the number you want to divide with : \"))\n",
    "        ans = a/b\n",
    "        print(ans)\n",
    "    except Exception as e:\n",
    "        print(\"Exception : \" + str(e))\n",
    "    else:\n",
    "        print(\"Division is completed successfully\")"
   ]
  },
  {
   "cell_type": "code",
   "execution_count": 9,
   "metadata": {},
   "outputs": [
    {
     "name": "stdout",
     "output_type": "stream",
     "text": [
      "Enter the number you are dividing up : 5\n",
      "Enter the number you want to divide with : 0\n",
      "Exception : division by zero\n"
     ]
    }
   ],
   "source": [
    "compute()"
   ]
  },
  {
   "cell_type": "code",
   "execution_count": null,
   "metadata": {},
   "outputs": [],
   "source": [
    "#2\n",
    "#Implement a Python program to generate all sentences where subject is in [\"Americans\",\n",
    "#\"Indians\"] and verb is in [\"Play\", \"watch\"] and the object is in [\"Baseball\",\"cricket\"].\n",
    "#Hint: Subject,Verb and Object should be declared in the program as shown below.\n",
    "#subjects=[\"Americans \",\"Indians\"]\n",
    "#verbs=[\"play\",\"watch\"]\n",
    "#objects=[\"Baseball\",\"Cricket\"]"
   ]
  },
  {
   "cell_type": "code",
   "execution_count": 14,
   "metadata": {},
   "outputs": [
    {
     "name": "stdout",
     "output_type": "stream",
     "text": [
      "Americans Play Baseball.\n",
      "Americans Play cricket.\n",
      "Americans watch Baseball.\n",
      "Americans watch cricket.\n",
      "Indians Play Baseball.\n",
      "Indians Play cricket.\n",
      "Indians watch Baseball.\n",
      "Indians watch cricket.\n"
     ]
    }
   ],
   "source": [
    "#Declaration\n",
    "\n",
    "subjects = [\"Americans\",\"Indians\"]\n",
    "verbs = [\"Play\",\"watch\"]\n",
    "objects = [\"Baseball\",\"cricket\"]\n",
    "\n",
    "#for loop\n",
    "for i in range(0,len(subjects)):\n",
    "    for j in range(0,len(verbs)):\n",
    "        for k in range(0,len(objects)):\n",
    "            print(subjects[i] + \" \" + verbs[j] + \" \" + objects[k] +\".\")"
   ]
  },
  {
   "cell_type": "code",
   "execution_count": 14,
   "metadata": {},
   "outputs": [],
   "source": [
    "#Task-2\n",
    "#1 Write a function so that the columns of the output matrix are powers of the input vector.\n",
    "#The order of the powers is determined by the increasing boolean argument. Specifically, when\n",
    "#increasing is False, the i-th output column is the input vector raised element-wise to the power\n",
    "#of N - i - 1.\n",
    "#HINT: Such a matrix with a geometric progression in each row is named for Alexandre-\n",
    "#Theophile Vandermonde.\n",
    "\n",
    "def outMatrix(inputvect,increasing):\n",
    "    n = int(input(\"Enter the NXN matrix value :\"))\n",
    "    matrix = []\n",
    "    print(\"Enter the detail of row wise vectors\")\n",
    "    if increasing == False:\n",
    "        for i in inputvect:\n",
    "            a = []\n",
    "            for j in range(n):\n",
    "                a.append(float(i)**float(n-j-1))\n",
    "            matrix.append(a)\n",
    "        for i in range(len(inputvect)):\n",
    "            for j in range(n):\n",
    "                print(int(matrix[i][j]), end =\" \")\n",
    "            print()\n",
    "    else :\n",
    "        for i in inputvect:\n",
    "            a = []\n",
    "            for j in range(n):\n",
    "                a.append(float(i)**float(j))\n",
    "            matrix.append(a)\n",
    "        for i in range(len(inputvect)):\n",
    "            for j in range(n):\n",
    "                print(int(matrix[i][j]), end =\" \")\n",
    "            print()\n",
    "        "
   ]
  },
  {
   "cell_type": "code",
   "execution_count": 17,
   "metadata": {},
   "outputs": [
    {
     "name": "stdout",
     "output_type": "stream",
     "text": [
      "Enter the NXN matrix value :3\n",
      "Enter the detail of row wise vectors\n",
      "1 1 1 \n",
      "4 2 1 \n",
      "9 3 1 \n"
     ]
    }
   ],
   "source": [
    "inputvector = [1,2,3]\n",
    "outMatrix(inputvector,False)"
   ]
  },
  {
   "cell_type": "code",
   "execution_count": null,
   "metadata": {},
   "outputs": [],
   "source": []
  },
  {
   "cell_type": "code",
   "execution_count": null,
   "metadata": {},
   "outputs": [],
   "source": []
  }
 ],
 "metadata": {
  "kernelspec": {
   "display_name": "Python 3",
   "language": "python",
   "name": "python3"
  },
  "language_info": {
   "codemirror_mode": {
    "name": "ipython",
    "version": 3
   },
   "file_extension": ".py",
   "mimetype": "text/x-python",
   "name": "python",
   "nbconvert_exporter": "python",
   "pygments_lexer": "ipython3",
   "version": "3.7.6"
  }
 },
 "nbformat": 4,
 "nbformat_minor": 4
}
